{
 "cells": [
  {
   "attachments": {},
   "cell_type": "markdown",
   "metadata": {},
   "source": [
    "# 测试Tools文件夹下的FileTools.py"
   ]
  },
  {
   "attachments": {},
   "cell_type": "markdown",
   "metadata": {},
   "source": [
    "## 测试get_all_file函数\n",
    "\n",
    "<font size=5 face='华文楷体'>获取文件夹最内层的数据文件，主要用于多层文件嵌套时</font>"
   ]
  },
  {
   "cell_type": "code",
   "execution_count": 1,
   "metadata": {},
   "outputs": [],
   "source": [
    "import sys\n",
    "sys.path.append('../../')  # 将MeteoPy目录放入搜索目录\n",
    "from Tools.FileTools import get_all_file"
   ]
  },
  {
   "cell_type": "code",
   "execution_count": 2,
   "metadata": {},
   "outputs": [
    {
     "data": {
      "text/plain": [
       "['../..//Test/DataProTest/PreProTest.ipynb',\n",
       " '../..//Test/MeteoDrawTest/DrawTest.ipynb',\n",
       " '../..//Test/ToolsTest/FileToolsTest.ipynb',\n",
       " '../..//Test/ToolsTest/GraphToolsTest.ipynb']"
      ]
     },
     "execution_count": 2,
     "metadata": {},
     "output_type": "execute_result"
    }
   ],
   "source": [
    "get_all_file('../../', 'ipynb')"
   ]
  },
  {
   "attachments": {},
   "cell_type": "markdown",
   "metadata": {},
   "source": [
    "## 测试 函数\n",
    "\n",
    "<font size=5 face='华文楷体'>搜索文件夹下所有文件，查找指定内容</font>"
   ]
  },
  {
   "cell_type": "code",
   "execution_count": 1,
   "metadata": {},
   "outputs": [],
   "source": [
    "import sys\n",
    "sys.path.append('../../')\n",
    "from Tools.FileTools import search_str"
   ]
  },
  {
   "cell_type": "code",
   "execution_count": 2,
   "metadata": {},
   "outputs": [
    {
     "name": "stdout",
     "output_type": "stream",
     "text": [
      "\u001b[35m../..//Tools/GraphTools.py\u001b[0m:\u001b[32m187\u001b[0m:    >>> \u001b[31mfig\u001b[0m = plt.\u001b[31mfig\u001b[0mure(\u001b[31mfig\u001b[0msize=(8, 5))\n",
      "\u001b[31m\u001b[0m\u001b[35m../..//Tools/GraphTools.py\u001b[0m:\u001b[32m189\u001b[0m:    >>> ax_parant = \u001b[31mfig\u001b[0m.add_subplot(1, 1, 1, projection=map_proj)\n",
      "\u001b[31m\u001b[0m\u001b[35m../..//Tools/GraphTools.py\u001b[0m:\u001b[32m195\u001b[0m:    >>> ax_sub = \u001b[31mfig\u001b[0m.add_subplot(1, 1, 1, projection=map_proj)\n",
      "\u001b[31m\u001b[0m\u001b[35m../..//Tools/GraphTools.py\u001b[0m:\u001b[32m202\u001b[0m:    bbox_parent = ax_parant.get_position()  # 获取父图在\u001b[31mfig\u001b[0m中的位置\n",
      "\u001b[31m\u001b[0m\u001b[35m../..//Tools/GraphTools.py\u001b[0m:\u001b[32m203\u001b[0m:    bbox_sub = ax_sub.get_position()  # 获取目标子图在\u001b[31mfig\u001b[0m中的位置\n",
      "\u001b[31m\u001b[0m\u001b[35m../..//Tools/GraphTools.py\u001b[0m:\u001b[32m260\u001b[0m:        \u001b[31mfig\u001b[0m1 = plt.\u001b[31mfig\u001b[0mure()\n",
      "\u001b[31m\u001b[0m\u001b[35m../..//Tools/GraphTools.py\u001b[0m:\u001b[32m261\u001b[0m:        ax1 = \u001b[31mfig\u001b[0m1.add_subplot(1, 1, 1, projection=ax.projection)\n",
      "\u001b[31m\u001b[0m\u001b[35m../..//Tools/GraphTools.py\u001b[0m:\u001b[32m271\u001b[0m:def shp2clip(origin\u001b[31mfig\u001b[0m, ax, \n",
      "\u001b[31m\u001b[0m\u001b[35m../..//Tools/GraphTools.py\u001b[0m:\u001b[32m277\u001b[0m:        origin\u001b[31mfig\u001b[0m (_type_): 掩膜对象，cotour_f返回的cs\n",
      "\u001b[31m\u001b[0m\u001b[35m../..//Tools/GraphTools.py\u001b[0m:\u001b[32m309\u001b[0m:    for contour in origin\u001b[31mfig\u001b[0m.collections:\n",
      "\u001b[31m\u001b[0m\u001b[35m../..//Tools/GraphTools.py\u001b[0m:\u001b[32m327\u001b[0m:    >>> position = self.\u001b[31mfig\u001b[0m.add_axes([0.90, 0.13, 0.018, 0.31])  # 坐标＋长宽\n",
      "\u001b[31m\u001b[0m\u001b[35m../..//Tools/GraphTools.py\u001b[0m:\u001b[32m328\u001b[0m:    >>> cbar = self.\u001b[31mfig\u001b[0m.colorbar(im, shrink=1, cax=position, orientation='vertical')\n",
      "\u001b[31m\u001b[0m\u001b[35m../..//Tools/GraphTools.py\u001b[0m:\u001b[32m398\u001b[0m:    >>> position = self.\u001b[31mfig\u001b[0m.add_axes([0.90, 0.13, 0.018, 0.31])  # 坐标＋长宽\n",
      "\u001b[31m\u001b[0m\u001b[35m../..//Tools/GraphTools.py\u001b[0m:\u001b[32m399\u001b[0m:    >>> cbar = self.\u001b[31mfig\u001b[0m.colorbar(im, shrink=1, cax=position, orientation='vertical')\n",
      "\u001b[31m\u001b[0m\u001b[35m../..//Tools/GraphTools.py\u001b[0m:\u001b[32m471\u001b[0m:    >>> position = self.\u001b[31mfig\u001b[0m.add_axes([0.90, 0.13, 0.018, 0.31])  # 坐标＋长宽\n",
      "\u001b[31m\u001b[0m\u001b[35m../..//Tools/GraphTools.py\u001b[0m:\u001b[32m472\u001b[0m:    >>> cbar = self.\u001b[31mfig\u001b[0m.colorbar(im, shrink=1, cax=position, orientation='vertical')\n",
      "\u001b[31m\u001b[0m"
     ]
    }
   ],
   "source": [
    "search_str('../..//Tools/GraphTools.py', 'Fig', False, '.py', 'unconsole')"
   ]
  }
 ],
 "metadata": {
  "kernelspec": {
   "display_name": "ConPyEnv",
   "language": "python",
   "name": "python3"
  },
  "language_info": {
   "codemirror_mode": {
    "name": "ipython",
    "version": 3
   },
   "file_extension": ".py",
   "mimetype": "text/x-python",
   "name": "python",
   "nbconvert_exporter": "python",
   "pygments_lexer": "ipython3",
   "version": "3.9.16"
  },
  "orig_nbformat": 4
 },
 "nbformat": 4,
 "nbformat_minor": 2
}
